{
  "nbformat": 4,
  "nbformat_minor": 0,
  "metadata": {
    "colab": {
      "provenance": [],
      "machine_shape": "hm",
      "authorship_tag": "ABX9TyPhqMoSLOO8mPmutED5XKzw",
      "include_colab_link": true
    },
    "kernelspec": {
      "name": "python3",
      "display_name": "Python 3"
    },
    "language_info": {
      "name": "python"
    }
  },
  "cells": [
    {
      "cell_type": "markdown",
      "metadata": {
        "id": "view-in-github",
        "colab_type": "text"
      },
      "source": [
        "<a href=\"https://colab.research.google.com/github/TASM-Repo/TASM/blob/main/Conduit.ipynb\" target=\"_parent\"><img src=\"https://colab.research.google.com/assets/colab-badge.svg\" alt=\"Open In Colab\"/></a>"
      ]
    },
    {
      "cell_type": "markdown",
      "source": [
        "# Conduit Notebook (Zenodo-Only Edition)\n",
        "\n",
        "**Purpose:**\n",
        "- Run TASM simulations in Colab VM  \n",
        "- Save outputs locally under `/content/data/` & `/content/artifacts/`  \n",
        "- Hash & manifest every artifact  \n",
        "- Upload + publish to Zenodo via API, recording DOIs  \n",
        "- No Google Drive dependency—fully self-contained in Colab  \n",
        "\n",
        "**Core workflow:**\n",
        "1. Define local storage paths (`/content/data`, `/content/artifacts`).  \n",
        "2. Pin environment.  \n",
        "3. Run CF/GR simulations → write CSVs, plots, etc., to `/content/data`.  \n",
        "4. Call `log_and_publish(path)` to:\n",
        "   - copy to `/content/artifacts/`  \n",
        "   - hash & append to `manifest.json`  \n",
        "   - create a Zenodo deposition, upload files + metadata, publish → get DOI  \n",
        "   - write DOI back into the manifest  \n",
        "5. End of run: `/content/artifacts/manifest.json` has full audit trail.\n",
        "\n",
        "**Folder structure (in VM):**"
      ],
      "metadata": {
        "id": "B_NPqVKtOK_R"
      }
    },
    {
      "cell_type": "code",
      "source": [
        "import os\n",
        "# ⚠️ Replace the string below with your actual token (keep it secret!)\n",
        "os.environ['ZENODO_TOKEN'] = 'RjNnTNy1T6O1Mf6rGkCmtJUTjQLCEKKmmvNrx1dWmNDQM1k0rTLnSxqXpgbj'\n"
      ],
      "metadata": {
        "id": "KAseopKCHXAh"
      },
      "execution_count": 12,
      "outputs": []
    },
    {
      "cell_type": "code",
      "source": [
        "import requests, os\n",
        "resp = requests.get(\n",
        "    'https://zenodo.org/api/deposit/depositions',\n",
        "    params={'access_token': os.environ['ZENODO_TOKEN']}\n",
        ")\n",
        "print('Zenodo auth status:', resp.status_code)\n"
      ],
      "metadata": {
        "colab": {
          "base_uri": "https://localhost:8080/"
        },
        "id": "mdMX-UEBHkTO",
        "outputId": "75328ad0-520c-4ef6-8f7b-c68a51dcd6f2"
      },
      "execution_count": 13,
      "outputs": [
        {
          "output_type": "stream",
          "name": "stdout",
          "text": [
            "Zenodo auth status: 200\n"
          ]
        }
      ]
    },
    {
      "cell_type": "code",
      "source": [
        "import os, requests, json, pathlib\n",
        "\n",
        "# Your token should already be set in os.environ['ZENODO_TOKEN']\n",
        "ZENODO_API   = 'https://zenodo.org/api/deposit/depositions'\n",
        "HEADERS      = {\"Content-Type\": \"application/json\"}\n",
        "PARAMS       = {'access_token': os.environ['ZENODO_TOKEN']}\n",
        "\n",
        "# Load or define your global metadata template\n",
        "METADATA = {\n",
        "    \"metadata\": {\n",
        "        \"title\": \"TASM Simulation Artifacts v1.0\",\n",
        "        \"upload_type\": \"dataset\",\n",
        "        \"description\": \"Curvature-Factor lensing slice outputs, CF gradients 1.0/2.0/2.999, manifest hash, generated via Conduit notebook.\",\n",
        "        \"creators\": [{\"name\": \"Tejera, Michael\", \"affiliation\": \"Independent Researcher\"}],\n",
        "        \"keywords\": [\"cosmology\",\"CF\",\"lensing\",\"TASM\",\"AI-assisted\"],\n",
        "        \"license\": \"CC-BY-4.0\"\n",
        "    }\n",
        "}\n"
      ],
      "metadata": {
        "id": "NhLR3gV2H5pX"
      },
      "execution_count": 14,
      "outputs": []
    },
    {
      "cell_type": "code",
      "source": [
        "def create_deposition():\n",
        "    \"\"\"Start a new Zenodo deposition and return its ID.\"\"\"\n",
        "    r = requests.post(ZENODO_API, params=PARAMS, json={})\n",
        "    r.raise_for_status()\n",
        "    dep = r.json()\n",
        "    print(f\"🆔 New deposition id = {dep['id']}\")\n",
        "    return dep['id']\n",
        "\n",
        "def zenodo_upload(depid, file_path):\n",
        "    \"\"\"Upload one file to an existing deposition.\"\"\"\n",
        "    path = pathlib.Path(file_path)\n",
        "    files = {'file': open(path, 'rb')}\n",
        "    url = f\"{ZENODO_API}/{depid}/files\"\n",
        "    r = requests.post(url, params=PARAMS, files=files)\n",
        "    r.raise_for_status()\n",
        "    print(f\"✅ Uploaded {path.name} to deposition {depid}\")\n",
        "\n",
        "def finalize_deposition(depid):\n",
        "    \"\"\"Publish the deposition and return its DOI.\"\"\"\n",
        "    url = f\"{ZENODO_API}/{depid}/actions/publish\"\n",
        "    r = requests.post(url, params=PARAMS)\n",
        "    r.raise_for_status()\n",
        "    doi = r.json()['doi']\n",
        "    print(f\"🎉 Published: DOI = {doi}\")\n",
        "    return doi\n"
      ],
      "metadata": {
        "id": "f7-ByUblH7sl"
      },
      "execution_count": 15,
      "outputs": []
    },
    {
      "cell_type": "code",
      "source": [
        "def log_and_publish(src_path):\n",
        "    # 1) Local hashing & manifest\n",
        "    log_artifact(src_path)\n",
        "\n",
        "    # 2) Zenodo workflow\n",
        "    depid = create_deposition()\n",
        "    zenodo_upload(depid, ARTIFACT_DIR / pathlib.Path(src_path).name)\n",
        "    doi   = finalize_deposition(depid)\n",
        "\n",
        "    # 3) Append DOI to manifest entry\n",
        "    manifest = ARTIFACT_DIR / 'manifest.json'\n",
        "    data = json.loads(manifest.read_text())\n",
        "    data[-1]['doi'] = doi\n",
        "    manifest.write_text(json.dumps(data, indent=2))\n",
        "\n",
        "    print(f\"🔖 Added DOI to manifest entry.\")\n"
      ],
      "metadata": {
        "id": "1_ClU7xlIGM6"
      },
      "execution_count": 21,
      "outputs": []
    },
    {
      "cell_type": "code",
      "source": [
        "# ──────────────── Self-Contained Zenodo Smoke-Test ────────────────\n",
        "\n",
        "import os\n",
        "import pathlib\n",
        "import hashlib\n",
        "import json\n",
        "import datetime as dt\n",
        "import requests\n",
        "import pandas as pd\n",
        "\n",
        "# 1) Local folder setup\n",
        "DATA_DIR     = pathlib.Path('/content/data')\n",
        "ARTIFACT_DIR = pathlib.Path('/content/artifacts')\n",
        "for d in (DATA_DIR, ARTIFACT_DIR):\n",
        "    d.mkdir(parents=True, exist_ok=True)\n",
        "\n",
        "# 2) Zenodo config (ensure ZENODO_TOKEN is already set in env)\n",
        "ZENODO_TOKEN = os.getenv('ZENODO_TOKEN')\n",
        "if not ZENODO_TOKEN:\n",
        "    raise RuntimeError(\"ZENODO_TOKEN not found in environment!\")\n",
        "ZENODO_API = 'https://zenodo.org/api/deposit/depositions'\n",
        "HEADERS    = {\"Content-Type\": \"application/json\"}\n",
        "PARAMS     = {'access_token': ZENODO_TOKEN}\n",
        "\n",
        "METADATA = {\n",
        "    \"metadata\": {\n",
        "        \"title\": \"TASM Simulation Artifacts v1.0\",\n",
        "        \"upload_type\": \"dataset\",\n",
        "        \"description\": \"Curvature-Factor lensing demo, auto-hashed & published via Conduit.\",\n",
        "        \"creators\": [{\"name\": \"Tejera, Michael\", \"affiliation\": \"Independent Researcher\"}],\n",
        "        \"keywords\": [\"cosmology\",\"TASM\",\"CF\",\"lensing\",\"AI-assisted\"],\n",
        "        \"license\": \"CC-BY-4.0\"\n",
        "    }\n",
        "}\n",
        "\n",
        "# 3) Helper functions\n",
        "\n",
        "def sha256(path):\n",
        "    h = hashlib.sha256()\n",
        "    with open(path, 'rb') as f:\n",
        "        for chunk in iter(lambda: f.read(8192), b''):\n",
        "            h.update(chunk)\n",
        "    return h.hexdigest()\n",
        "\n",
        "def log_artifact(path):\n",
        "    src  = pathlib.Path(path)\n",
        "    dest = ARTIFACT_DIR / src.name\n",
        "    dest.write_bytes(src.read_bytes())\n",
        "    record = {\n",
        "        'file': dest.name,\n",
        "        'sha256': sha256(dest),\n",
        "        'timestamp': dt.datetime.utcnow().isoformat() + 'Z'\n",
        "    }\n",
        "    manifest = ARTIFACT_DIR / 'manifest.json'\n",
        "    data = json.loads(manifest.read_text()) if manifest.exists() else []\n",
        "    data.append(record)\n",
        "    manifest.write_text(json.dumps(data, indent=2))\n",
        "    print(f\"📦 Logged locally: {dest.name}\")\n",
        "\n",
        "def create_deposition():\n",
        "    r = requests.post(ZENODO_API, params=PARAMS, json={})\n",
        "    r.raise_for_status()\n",
        "    depid = r.json()['id']\n",
        "    # set metadata\n",
        "    r2 = requests.put(f\"{ZENODO_API}/{depid}\", params=PARAMS, json=METADATA, headers=HEADERS)\n",
        "    r2.raise_for_status()\n",
        "    print(f\"🆔 Created deposition {depid}\")\n",
        "    return depid\n",
        "\n",
        "def zenodo_upload(depid, file_path):\n",
        "    files = {'file': open(file_path, 'rb')}\n",
        "    url = f\"{ZENODO_API}/{depid}/files\"\n",
        "    r = requests.post(url, params=PARAMS, files=files)\n",
        "    r.raise_for_status()\n",
        "    print(f\"✅ Uploaded {pathlib.Path(file_path).name}\")\n",
        "\n",
        "def finalize_deposition(depid):\n",
        "    r = requests.post(f\"{ZENODO_API}/{depid}/actions/publish\", params=PARAMS)\n",
        "    r.raise_for_status()\n",
        "    doi = r.json()['doi']\n",
        "    print(f\"🎉 Published DOI = {doi}\")\n",
        "    return doi\n",
        "\n",
        "def log_and_publish(path):\n",
        "    log_artifact(path)\n",
        "    depid = create_deposition()\n",
        "    zenodo_upload(depid, ARTIFACT_DIR / pathlib.Path(path).name)\n",
        "    doi = finalize_deposition(depid)\n",
        "    manifest = ARTIFACT_DIR / 'manifest.json'\n",
        "    data = json.loads(manifest.read_text())\n",
        "    data[-1]['doi'] = doi\n",
        "    manifest.write_text(json.dumps(data, indent=2))\n",
        "    print(f\"🔖 DOI recorded in manifest.\")\n",
        "\n",
        "# 4) Demo file creation and test\n",
        "\n",
        "demo = DATA_DIR / 'demo_CF_run.csv'\n",
        "pd.DataFrame({'theta':[0,1,2], 'xi_plus':[0.1,0.2,0.3]}).to_csv(demo, index=False)\n",
        "print(\"📝 Demo CSV written:\", demo)\n",
        "\n",
        "# 5) Run the full pipeline\n",
        "log_and_publish(demo)\n",
        "\n",
        "# 6) Show final manifest\n",
        "print(\"\\n📄 Final manifest.json contents:\")\n",
        "print((ARTIFACT_DIR/'manifest.json').read_text())"
      ],
      "metadata": {
        "colab": {
          "base_uri": "https://localhost:8080/"
        },
        "id": "r--fA1KmPaxB",
        "outputId": "f9b38408-c325-4516-ab89-f33f087b652f"
      },
      "execution_count": 23,
      "outputs": [
        {
          "output_type": "stream",
          "name": "stdout",
          "text": [
            "📝 Demo CSV written: /content/data/demo_CF_run.csv\n",
            "📦 Logged locally: demo_CF_run.csv\n",
            "🆔 Created deposition 15367577\n",
            "✅ Uploaded demo_CF_run.csv\n",
            "🎉 Published DOI = 10.5281/zenodo.15367577\n",
            "🔖 DOI recorded in manifest.\n",
            "\n",
            "📄 Final manifest.json contents:\n",
            "[\n",
            "  {\n",
            "    \"file\": \"demo_CF_run.csv\",\n",
            "    \"sha256\": \"de7bb8d4ac66e4e46d2bfeb635ce271a46e6ac4945b62a37970f5f9f0a2fb9e1\",\n",
            "    \"timestamp\": \"2025-05-08T18:52:23.627628Z\",\n",
            "    \"doi\": \"10.5281/zenodo.15367577\"\n",
            "  }\n",
            "]\n"
          ]
        }
      ]
    }
  ]
}